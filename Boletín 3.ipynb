{
 "cells": [
  {
   "cell_type": "code",
   "execution_count": 7,
   "id": "1cc19115",
   "metadata": {},
   "outputs": [
    {
     "name": "stdout",
     "output_type": "stream",
     "text": [
      "[1, 2, 5, 6, 9]\n"
     ]
    }
   ],
   "source": [
    "#EJERCICIO 1\n",
    "mi_lista = [5,2,9,1,6]\n",
    "mi_lista.sort()\n",
    "print(mi_lista)"
   ]
  },
  {
   "cell_type": "code",
   "execution_count": 4,
   "id": "1bea2e0f",
   "metadata": {},
   "outputs": [
    {
     "name": "stdout",
     "output_type": "stream",
     "text": [
      "['hola', 'python', 'mundo']\n"
     ]
    }
   ],
   "source": [
    "#EJERCICIO 2\n",
    "mi_lista = ['hola', 'mundo', 'hola', 'python', 'mundo']\n",
    "mi_lista.remove('hola')\n",
    "mi_lista.remove('mundo')\n",
    "print(mi_lista)"
   ]
  },
  {
   "cell_type": "code",
   "execution_count": 1,
   "id": "8f300ddc",
   "metadata": {},
   "outputs": [
    {
     "name": "stdout",
     "output_type": "stream",
     "text": [
      "{1: 1, 2: 4, 3: 9, 4: 16, 5: 25}\n"
     ]
    }
   ],
   "source": [
    "#EJERCICIO 3\n",
    "def valores_cuadrados(n):\n",
    "    return {i: i**2 for i in range(1, n + 1)}\n",
    "\n",
    "resultado = valores_cuadrados(5)\n",
    "\n",
    "print(resultado)"
   ]
  },
  {
   "cell_type": "code",
   "execution_count": 1,
   "id": "2859ed31",
   "metadata": {},
   "outputs": [
    {
     "name": "stdout",
     "output_type": "stream",
     "text": [
      "La suma es 60\n",
      "El promedio es 20.0\n"
     ]
    }
   ],
   "source": [
    "#EJERCICIO 4\n",
    "def suma_promedio():\n",
    "    numeros = [10,20,30]\n",
    "    suma = 0\n",
    "\n",
    "    for i in numeros:\n",
    "        suma = suma + i\n",
    "    \n",
    "    print(\"La suma es\", suma)\n",
    "    print(\"El promedio es\", suma/len (numeros))\n",
    "suma_promedio()"
   ]
  },
  {
   "cell_type": "code",
   "execution_count": 2,
   "id": "1d228bb8",
   "metadata": {},
   "outputs": [
    {
     "data": {
      "text/plain": [
       "{'hola': 2, 'mundo': 1}"
      ]
     },
     "execution_count": 2,
     "metadata": {},
     "output_type": "execute_result"
    }
   ],
   "source": [
    "#EJERCICIO 5\n",
    "def frecuencia_palabras():\n",
    "    frase = \"hola mundo hola\"\n",
    "    palabras = frase.split()\n",
    "    frecuencia = {}\n",
    "    \n",
    "    for palabra in palabras:\n",
    "        if palabra in frecuencia:\n",
    "            frecuencia[palabra] += 1\n",
    "        else:\n",
    "            frecuencia[palabra] = 1\n",
    "    \n",
    "    return frecuencia\n",
    "    \n",
    "frecuencia_palabras()"
   ]
  },
  {
   "cell_type": "code",
   "execution_count": 3,
   "id": "9b57575c",
   "metadata": {},
   "outputs": [
    {
     "name": "stdout",
     "output_type": "stream",
     "text": [
      "{'gato': 4, 'perro': 5, 'elefante': 8}\n"
     ]
    }
   ],
   "source": [
    "#EJERCICIO 6\n",
    "def diccionario_longitud(palabras):\n",
    "    diccionario = {}\n",
    "    for palabra in palabras:\n",
    "        diccionario[palabra] = len(palabra)\n",
    "    return diccionario\n",
    "\n",
    "lista_palabras = [\"gato\", \"perro\", \"elefante\"]\n",
    "resultado = diccionario_longitud(lista_palabras)\n",
    "print(resultado)\n"
   ]
  },
  {
   "cell_type": "code",
   "execution_count": 34,
   "id": "ad6af7ab",
   "metadata": {},
   "outputs": [
    {
     "name": "stdout",
     "output_type": "stream",
     "text": [
      "Los divisores de 12 son: [1, 2, 3, 4, 6, 12]\n"
     ]
    }
   ],
   "source": [
    "#EJERCICIO 7\n",
    "def obtener_divisores(numero):\n",
    "    divisores = []\n",
    "    for i in range(1, numero + 1):\n",
    "        if numero % i == 0:\n",
    "            divisores.append(i)\n",
    "    return divisores\n",
    "\n",
    "numero = 12\n",
    "print(f\"Los divisores de {numero} son: {obtener_divisores(numero)}\")"
   ]
  },
  {
   "cell_type": "code",
   "execution_count": 4,
   "id": "a3518aed",
   "metadata": {},
   "outputs": [
    {
     "name": "stdout",
     "output_type": "stream",
     "text": [
      "En el texto: \n",
      "Vocales: 4\n",
      "Consonantes: 5\n"
     ]
    }
   ],
   "source": [
    "#EJERCICIO 8\n",
    "def contar_vocales_consonantes(texto):\n",
    "    vocales = \"aeiouáéíóúü\"\n",
    "    consonantes = \"bcdfghjklmnñpqrstvwxyz\"\n",
    "    cuenta = {\"vocales\": 0, \"consonantes\": 0}\n",
    "\n",
    "    for letra in texto.lower():\n",
    "        if letra in vocales:\n",
    "            cuenta[\"vocales\"] += 1\n",
    "        elif letra in consonantes:\n",
    "            cuenta[\"consonantes\"] += 1\n",
    "    \n",
    "    return cuenta\n",
    "\n",
    "texto = \"hola mundo\"\n",
    "resultado = contar_vocales_consonantes(texto)\n",
    "print(f\"En el texto: '{texto}'\\nVocales: {resultado['vocales']}\\nConsonantes: {resultado['consonantes']}\")\n"
   ]
  },
  {
   "cell_type": "code",
   "execution_count": 10,
   "id": "c1c54b14",
   "metadata": {},
   "outputs": [
    {
     "name": "stdout",
     "output_type": "stream",
     "text": [
      "Promedio: 7.333333333333333\n",
      "Mejor estudiante: Ana 9\n"
     ]
    }
   ],
   "source": [
    "#EJERCICIO 9\n",
    "def analizar_calificaciones(estudiantes):\n",
    "    if not estudiantes:\n",
    "        return {\"promedio\": 0, \"mejor_estudiante\": None}\n",
    "    \n",
    "    total_calificaciones = sum(estudiantes.values())\n",
    "    promedio = total_calificaciones / len(estudiantes)\n",
    "    \n",
    "    mejor_estudiante = max(estudiantes, key=estudiantes.get)\n",
    "    \n",
    "    return {\"promedio\": promedio, \"mejor_estudiante\": mejor_estudiante}\n",
    "\n",
    "estudiantes = {\n",
    "    \"Ana\": 9,\n",
    "    \"Juan\": 7,\n",
    "    \"Pedro\": 6\n",
    "}\n",
    "\n",
    "resultado = analizar_calificaciones(estudiantes)\n",
    "print(f\"Promedio: {resultado['promedio']}\")\n",
    "print(f\"Mejor estudiante: {resultado['mejor_estudiante']} {estudiantes[resultado['mejor_estudiante']]}\")\n"
   ]
  },
  {
   "cell_type": "code",
   "execution_count": 13,
   "id": "67dacb16",
   "metadata": {},
   "outputs": [
    {
     "name": "stdout",
     "output_type": "stream",
     "text": [
      "[1, 3, 5]\n"
     ]
    }
   ],
   "source": [
    "#EJERCICIO 10\n",
    "def eliminar_pares(numeros):\n",
    "    return [numero for numero in numeros if numero % 2 != 0]\n",
    "\n",
    "lista_numeros = [1, 2, 3, 4, 5, 6]\n",
    "resultado = eliminar_pares(lista_numeros)\n",
    "print(f\"{resultado}\")"
   ]
  }
 ],
 "metadata": {
  "kernelspec": {
   "display_name": "Python 3",
   "language": "python",
   "name": "python3"
  },
  "language_info": {
   "codemirror_mode": {
    "name": "ipython",
    "version": 3
   },
   "file_extension": ".py",
   "mimetype": "text/x-python",
   "name": "python",
   "nbconvert_exporter": "python",
   "pygments_lexer": "ipython3",
   "version": "3.13.1"
  }
 },
 "nbformat": 4,
 "nbformat_minor": 5
}
